{
 "cells": [
  {
   "cell_type": "code",
   "execution_count": 1,
   "metadata": {},
   "outputs": [
    {
     "name": "stdout",
     "output_type": "stream",
     "text": [
      "Requirement already satisfied: nba_api in /Library/Frameworks/Python.framework/Versions/3.10/lib/python3.10/site-packages (1.4.1)\n",
      "Requirement already satisfied: requests<3.0,>=2.31 in /Library/Frameworks/Python.framework/Versions/3.10/lib/python3.10/site-packages (from nba_api) (2.31.0)\n",
      "Requirement already satisfied: certifi<2024.0.0,>=2023.7.22 in /Library/Frameworks/Python.framework/Versions/3.10/lib/python3.10/site-packages (from nba_api) (2023.11.17)\n",
      "Requirement already satisfied: numpy<2.0.0,>=1.22.2 in /Library/Frameworks/Python.framework/Versions/3.10/lib/python3.10/site-packages (from nba_api) (1.26.2)\n",
      "Requirement already satisfied: charset-normalizer<4,>=2 in /Library/Frameworks/Python.framework/Versions/3.10/lib/python3.10/site-packages (from requests<3.0,>=2.31->nba_api) (3.3.2)\n",
      "Requirement already satisfied: idna<4,>=2.5 in /Library/Frameworks/Python.framework/Versions/3.10/lib/python3.10/site-packages (from requests<3.0,>=2.31->nba_api) (3.6)\n",
      "Requirement already satisfied: urllib3<3,>=1.21.1 in /Library/Frameworks/Python.framework/Versions/3.10/lib/python3.10/site-packages (from requests<3.0,>=2.31->nba_api) (2.1.0)\n",
      "\u001b[33mWARNING: You are using pip version 21.2.4; however, version 23.3.1 is available.\n",
      "You should consider upgrading via the '/usr/local/bin/python3 -m pip install --upgrade pip' command.\u001b[0m\n",
      "Note: you may need to restart the kernel to use updated packages.\n"
     ]
    }
   ],
   "source": [
    "pip install nba_api"
   ]
  },
  {
   "cell_type": "code",
   "execution_count": 3,
   "metadata": {},
   "outputs": [
    {
     "name": "stdout",
     "output_type": "stream",
     "text": [
      "Career stats for LeBron James:\n",
      "    PLAYER_ID SEASON_ID LEAGUE_ID     TEAM_ID TEAM_ABBREVIATION  PLAYER_AGE  \\\n",
      "0        2544   2003-04        00  1610612739               CLE        19.0   \n",
      "1        2544   2004-05        00  1610612739               CLE        20.0   \n",
      "2        2544   2005-06        00  1610612739               CLE        21.0   \n",
      "3        2544   2006-07        00  1610612739               CLE        22.0   \n",
      "4        2544   2007-08        00  1610612739               CLE        23.0   \n",
      "5        2544   2008-09        00  1610612739               CLE        24.0   \n",
      "6        2544   2009-10        00  1610612739               CLE        25.0   \n",
      "7        2544   2010-11        00  1610612748               MIA        26.0   \n",
      "8        2544   2011-12        00  1610612748               MIA        27.0   \n",
      "9        2544   2012-13        00  1610612748               MIA        28.0   \n",
      "10       2544   2013-14        00  1610612748               MIA        29.0   \n",
      "11       2544   2014-15        00  1610612739               CLE        30.0   \n",
      "12       2544   2015-16        00  1610612739               CLE        31.0   \n",
      "13       2544   2016-17        00  1610612739               CLE        32.0   \n",
      "14       2544   2017-18        00  1610612739               CLE        33.0   \n",
      "15       2544   2018-19        00  1610612747               LAL        34.0   \n",
      "16       2544   2019-20        00  1610612747               LAL        35.0   \n",
      "17       2544   2020-21        00  1610612747               LAL        36.0   \n",
      "18       2544   2021-22        00  1610612747               LAL        37.0   \n",
      "19       2544   2022-23        00  1610612747               LAL        38.0   \n",
      "20       2544   2023-24        00  1610612747               LAL        38.0   \n",
      "\n",
      "    GP  GS     MIN  FGM  ...  FT_PCT  OREB  DREB  REB  AST  STL  BLK  TOV  \\\n",
      "0   79  79  3120.0  622  ...   0.754    99   333  432  465  130   58  273   \n",
      "1   80  80  3388.0  795  ...   0.750   111   477  588  577  177   52  262   \n",
      "2   79  79  3361.0  875  ...   0.738    75   481  556  521  123   66  260   \n",
      "3   78  78  3190.0  772  ...   0.698    83   443  526  470  125   55  250   \n",
      "4   75  74  3027.0  794  ...   0.712   133   459  592  539  138   81  255   \n",
      "5   81  81  3054.0  789  ...   0.780   106   507  613  587  137   93  241   \n",
      "6   76  76  2966.0  768  ...   0.767    71   483  554  651  125   77  261   \n",
      "7   79  79  3063.0  758  ...   0.759    80   510  590  554  124   50  284   \n",
      "8   62  62  2326.0  621  ...   0.771    94   398  492  387  115   50  213   \n",
      "9   76  76  2877.0  765  ...   0.753    97   513  610  551  129   67  226   \n",
      "10  77  77  2902.0  767  ...   0.750    81   452  533  488  121   26  270   \n",
      "11  69  69  2493.0  624  ...   0.710    51   365  416  511  109   49  272   \n",
      "12  76  76  2709.0  737  ...   0.731   111   454  565  514  104   49  249   \n",
      "13  74  74  2795.0  736  ...   0.674    97   542  639  646   92   44  303   \n",
      "14  82  82  3026.0  857  ...   0.731    97   612  709  747  116   71  347   \n",
      "15  55  55  1937.0  558  ...   0.665    57   408  465  454   72   33  197   \n",
      "16  67  67  2316.0  643  ...   0.693    66   459  525  684   78   36  261   \n",
      "17  45  45  1504.0  422  ...   0.698    29   317  346  350   48   25  168   \n",
      "18  56  56  2084.0  640  ...   0.756    63   396  459  349   73   59  196   \n",
      "19  55  54  1954.0  609  ...   0.768    65   392  457  375   50   32  178   \n",
      "20  24  24   810.0  225  ...   0.714    23   157  180  169   37   16   81   \n",
      "\n",
      "     PF   PTS  \n",
      "0   149  1654  \n",
      "1   146  2175  \n",
      "2   181  2478  \n",
      "3   171  2132  \n",
      "4   165  2250  \n",
      "5   139  2304  \n",
      "6   119  2258  \n",
      "7   163  2111  \n",
      "8    96  1683  \n",
      "9   110  2036  \n",
      "10  126  2089  \n",
      "11  135  1743  \n",
      "12  143  1920  \n",
      "13  134  1954  \n",
      "14  136  2251  \n",
      "15   94  1505  \n",
      "16  118  1698  \n",
      "17   70  1126  \n",
      "18  121  1695  \n",
      "19   88  1590  \n",
      "20   27   605  \n",
      "\n",
      "[21 rows x 27 columns]\n"
     ]
    }
   ],
   "source": [
    "from nba_api.stats.static import players\n",
    "\n",
    "player_name = \"LeBron James\"\n",
    "player_info = players.find_players_by_full_name(player_name)\n",
    "if player_info:\n",
    "    player_id = player_info[0]['id']\n",
    "\n",
    "    from nba_api.stats.endpoints import playercareerstats\n",
    "\n",
    "    career = playercareerstats.PlayerCareerStats(player_id=player_id)\n",
    "    career_stats = career.get_data_frames()[0]\n",
    "\n",
    "    print(f\"Career stats for {player_name}:\")\n",
    "    print(career_stats)\n",
    "else:\n",
    "    print(f\"Player with name '{player_name}' not found.\")"
   ]
  },
  {
   "cell_type": "code",
   "execution_count": 4,
   "metadata": {},
   "outputs": [
    {
     "name": "stdout",
     "output_type": "stream",
     "text": [
      "Career stats for Linas Kleiza:\n",
      "   PLAYER_ID SEASON_ID LEAGUE_ID     TEAM_ID TEAM_ABBREVIATION  PLAYER_AGE  \\\n",
      "0     101132   2005-06        00  1610612743               DEN        21.0   \n",
      "1     101132   2006-07        00  1610612743               DEN        22.0   \n",
      "2     101132   2007-08        00  1610612743               DEN        23.0   \n",
      "3     101132   2008-09        00  1610612743               DEN        24.0   \n",
      "4     101132   2010-11        00  1610612761               TOR        26.0   \n",
      "5     101132   2011-12        00  1610612761               TOR        27.0   \n",
      "6     101132   2012-13        00  1610612761               TOR        28.0   \n",
      "\n",
      "   GP  GS     MIN  FGM  ...  FT_PCT  OREB  DREB  REB  AST  STL  BLK  TOV   PF  \\\n",
      "0  61   2   519.0   77  ...   0.704    38    78  116   15   10   13   16   87   \n",
      "1  79  14  1488.0  200  ...   0.852    77   189  266   45   28   14   79  200   \n",
      "2  79  13  1889.0  311  ...   0.770    92   241  333   95   44   19   89  181   \n",
      "3  82   7  1824.0  289  ...   0.725    92   235  327   64   31   14   82  155   \n",
      "4  39  23  1032.0  178  ...   0.631    37   140  177   40   19    7   65   99   \n",
      "5  49   3  1057.0  165  ...   0.810    42   157  199   46   23    4   64  119   \n",
      "6  20   3   376.0   48  ...   0.842    10    42   52   16    4    2   14   45   \n",
      "\n",
      "   PTS  \n",
      "0  213  \n",
      "1  598  \n",
      "2  880  \n",
      "3  813  \n",
      "4  436  \n",
      "5  473  \n",
      "6  148  \n",
      "\n",
      "[7 rows x 27 columns]\n"
     ]
    }
   ],
   "source": [
    "from nba_api.stats.static import players\n",
    "\n",
    "player_name = \"Linas Kleiza\"\n",
    "player_info = players.find_players_by_full_name(player_name)\n",
    "if player_info:\n",
    "    player_id = player_info[0]['id']\n",
    "\n",
    "    from nba_api.stats.endpoints import playercareerstats\n",
    "\n",
    "    career = playercareerstats.PlayerCareerStats(player_id=player_id)\n",
    "    career_stats = career.get_data_frames()[0]\n",
    "\n",
    "    print(f\"Career stats for {player_name}:\")\n",
    "    print(career_stats)\n",
    "else:\n",
    "    print(f\"Player with name '{player_name}' not found.\")"
   ]
  },
  {
   "cell_type": "code",
   "execution_count": 6,
   "metadata": {},
   "outputs": [],
   "source": [
    "#Team stats, team information, game information, advanced stats etc."
   ]
  },
  {
   "cell_type": "code",
   "execution_count": 7,
   "metadata": {},
   "outputs": [],
   "source": [
    "from nba_api.stats.static import teams\n"
   ]
  },
  {
   "cell_type": "code",
   "execution_count": 17,
   "metadata": {},
   "outputs": [],
   "source": [
    "from nba_api.stats.static import teams\n",
    "from nba_api.stats.endpoints import teamgamelog"
   ]
  },
  {
   "cell_type": "code",
   "execution_count": 21,
   "metadata": {},
   "outputs": [
    {
     "name": "stdout",
     "output_type": "stream",
     "text": [
      "All column names:\n",
      "Index(['Team_ID', 'Game_ID', 'GAME_DATE', 'MATCHUP', 'WL', 'W', 'L', 'W_PCT',\n",
      "       'MIN', 'FGM', 'FGA', 'FG_PCT', 'FG3M', 'FG3A', 'FG3_PCT', 'FTM', 'FTA',\n",
      "       'FT_PCT', 'OREB', 'DREB', 'REB', 'AST', 'STL', 'BLK', 'TOV', 'PF',\n",
      "       'PTS'],\n",
      "      dtype='object')\n",
      "\n",
      "Scoreboards for all games of GSW in the regular season:\n",
      "       GAME_DATE      MATCHUP  PTS\n",
      "0   DEC 16, 2023  GSW vs. BKN  124\n",
      "1   DEC 14, 2023    GSW @ LAC  113\n",
      "2   DEC 12, 2023    GSW @ PHX  116\n",
      "3   DEC 08, 2023    GSW @ OKC  136\n",
      "4   DEC 06, 2023  GSW vs. POR  110\n",
      "5   DEC 02, 2023    GSW @ LAC  112\n",
      "6   NOV 30, 2023  GSW vs. LAC  120\n",
      "7   NOV 28, 2023    GSW @ SAC  123\n",
      "8   NOV 24, 2023  GSW vs. SAS  118\n",
      "9   NOV 22, 2023    GSW @ PHX  115\n",
      "10  NOV 20, 2023  GSW vs. HOU  121\n",
      "11  NOV 18, 2023  GSW vs. OKC  123\n",
      "12  NOV 16, 2023  GSW vs. OKC  109\n",
      "13  NOV 14, 2023  GSW vs. MIN  101\n",
      "14  NOV 12, 2023  GSW vs. MIN  110\n",
      "15  NOV 11, 2023  GSW vs. CLE  110\n",
      "16  NOV 08, 2023    GSW @ DEN  105\n",
      "17  NOV 06, 2023    GSW @ DET  120\n",
      "18  NOV 05, 2023    GSW @ CLE  104\n",
      "19  NOV 03, 2023    GSW @ OKC  141\n",
      "20  NOV 01, 2023  GSW vs. SAC  102\n",
      "21  OCT 30, 2023    GSW @ NOP  130\n",
      "22  OCT 29, 2023    GSW @ HOU  106\n",
      "23  OCT 27, 2023    GSW @ SAC  122\n",
      "24  OCT 24, 2023  GSW vs. PHX  104\n"
     ]
    }
   ],
   "source": [
    "from nba_api.stats.static import teams\n",
    "from nba_api.stats.endpoints import teamgamelog\n",
    "\n",
    "team_abbreviation = \"GSW\"\n",
    "team_info = teams.get_teams()\n",
    "selected_team = next((team for team in team_info if team['abbreviation'] == team_abbreviation), None)\n",
    "\n",
    "if selected_team:\n",
    "    team_id = selected_team['id']\n",
    "\n",
    "    game_log = teamgamelog.TeamGameLog(\n",
    "        team_id=team_id,\n",
    "        season=\"2023-24\",\n",
    "        season_type_all_star=\"Regular Season\" \n",
    "    )\n",
    "    game_log_data = game_log.get_data_frames()[0]\n",
    "\n",
    "    all_columns = game_log_data.columns\n",
    "    print(\"All column names:\")\n",
    "    print(all_columns)\n",
    "\n",
    "    print(f\"\\nScoreboards for all games of {team_abbreviation} in the regular season:\")\n",
    "    if 'GAME_DATE' in all_columns and 'MATCHUP' in all_columns and 'PTS' in all_columns:\n",
    "        print(game_log_data[['GAME_DATE', 'MATCHUP', 'PTS']])\n",
    "    else:\n",
    "        print(\"Required columns not found in the data.\")\n",
    "else:\n",
    "    print(f\"Team with abbreviation '{team_abbreviation}' not found.\")\n"
   ]
  }
 ],
 "metadata": {
  "kernelspec": {
   "display_name": "Python 3",
   "language": "python",
   "name": "python3"
  },
  "language_info": {
   "codemirror_mode": {
    "name": "ipython",
    "version": 3
   },
   "file_extension": ".py",
   "mimetype": "text/x-python",
   "name": "python",
   "nbconvert_exporter": "python",
   "pygments_lexer": "ipython3",
   "version": "3.10.2"
  }
 },
 "nbformat": 4,
 "nbformat_minor": 2
}
