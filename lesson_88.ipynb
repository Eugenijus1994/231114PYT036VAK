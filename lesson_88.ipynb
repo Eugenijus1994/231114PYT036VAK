{
 "cells": [
  {
   "cell_type": "code",
   "execution_count": null,
   "metadata": {},
   "outputs": [],
   "source": [
    "#LAMBDA FUNCTIONS"
   ]
  },
  {
   "cell_type": "code",
   "execution_count": 10,
   "metadata": {},
   "outputs": [
    {
     "name": "stdout",
     "output_type": "stream",
     "text": [
      "heelo world\n",
      "['heelo', 'world']\n",
      "heelo\n",
      "heelo\n",
      "heelo\n"
     ]
    }
   ],
   "source": [
    "my_string = 'heelo world'\n",
    "\n",
    "print(my_string)\n",
    "print(my_string.split())\n",
    "\n",
    "def  my_func(x):\n",
    "    return x.split()[0]\n",
    "\n",
    "print( my_func( my_string) )\n",
    "\n",
    "print( my_func (x= my_string ) )\n",
    "\n",
    "my_lambda = lambda y: y.split()[0]\n",
    "print(my_lambda(my_string))"
   ]
  },
  {
   "cell_type": "code",
   "execution_count": 11,
   "metadata": {},
   "outputs": [
    {
     "name": "stdout",
     "output_type": "stream",
     "text": [
      "0\n",
      "done\n",
      "1\n",
      "done\n",
      "2\n",
      "done\n",
      "3\n",
      "done\n",
      "4\n",
      "done\n",
      "5\n",
      "done\n",
      "6\n",
      "done\n",
      "7\n",
      "done\n",
      "8\n",
      "done\n",
      "9\n",
      "done\n"
     ]
    }
   ],
   "source": [
    "x = 0\n",
    "while x < 10:\n",
    "    print(x)\n",
    "    x+=1\n",
    "    print('done')"
   ]
  }
 ],
 "metadata": {
  "kernelspec": {
   "display_name": "Python 3",
   "language": "python",
   "name": "python3"
  },
  "language_info": {
   "codemirror_mode": {
    "name": "ipython",
    "version": 3
   },
   "file_extension": ".py",
   "mimetype": "text/x-python",
   "name": "python",
   "nbconvert_exporter": "python",
   "pygments_lexer": "ipython3",
   "version": "3.10.2"
  }
 },
 "nbformat": 4,
 "nbformat_minor": 2
}
