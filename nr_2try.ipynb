{
 "cells": [
  {
   "cell_type": "markdown",
   "metadata": {},
   "source": [
    "1. Deklaruokite du `int` tipo kintamuosius. Apskaičiuokite jų sumą, skirtumą, sandaugą, liekaną, padalinkite vieną skaičių iš kito."
   ]
  },
  {
   "cell_type": "code",
   "execution_count": 16,
   "metadata": {},
   "outputs": [
    {
     "name": "stdout",
     "output_type": "stream",
     "text": [
      "10 + 2 = 12\n",
      "10 - 2 = 8\n",
      "10 * 2 = 20\n",
      "10 / 2 = 5.0\n",
      "10 % 2 = 0\n"
     ]
    }
   ],
   "source": [
    "number1 = 10\n",
    "number2 = 2\n",
    "\n",
    "print(f'10 + 2 = {10 + 2}')\n",
    "print(f'10 - 2 = {10 - 2}')\n",
    "print(f'10 * 2 = {10 * 2}')\n",
    "print(f'10 / 2 = {10 / 2}')\n",
    "print(f'10 % 2 = {10 % 2}')\n",
    "\n"
   ]
  },
  {
   "cell_type": "markdown",
   "metadata": {},
   "source": [
    "2. Deklaruokite du `float` tipo kintamuosius. Apskaičiuokite jų sumą, skirtumą, sandaugą, liekaną, padalinkite vieną skaičiu iš kito."
   ]
  },
  {
   "cell_type": "code",
   "execution_count": 19,
   "metadata": {},
   "outputs": [
    {
     "name": "stdout",
     "output_type": "stream",
     "text": [
      "5.5 + 0.7= 6.2\n",
      "5.5 - 0.7 = 4.8\n",
      "5.5 * 0.7 = 3.8499999999999996\n",
      "5.5 / 0.7 = 7.857142857142858\n",
      "5.5 % 0.7 = 0.6000000000000003\n"
     ]
    }
   ],
   "source": [
    "num_1 = 5.5\n",
    "num_2 = 0.7\n",
    "\n",
    "print(f'5.5 + 0.7= {5.5 + 0.7}')\n",
    "print(f'5.5 - 0.7 = {5.5 - 0.7}')\n",
    "print(f'5.5 * 0.7 = {5.5 * 0.7}')\n",
    "print(f'5.5 / 0.7 = {5.5 / 0.7}')\n",
    "print(f'5.5 % 0.7 = {5.5% 0.7}')\n"
   ]
  },
  {
   "cell_type": "markdown",
   "metadata": {},
   "source": [
    "3. Atstumas iki Mėnulio yra apie 384,000 km, o iki Saulės 150,000,000 km. Apskaičiuokite:\n",
    "   1. kiek kartų atstumas iki Saulės yra didesnis nei iki Mėnulio?\n",
    "   2. Jeigu norėtume nuvažiuoti iki mėnulio automobiliu, kurio greitis 150km/h, kiek metų, mėnesių, dienų, valandų, sekundžių tai užtruktų?\n",
    "   3. Kiek dienų (apytiksliai) praėjo nuo jūsų gimimo dienos?\n"
   ]
  },
  {
   "cell_type": "code",
   "execution_count": 31,
   "metadata": {},
   "outputs": [
    {
     "name": "stdout",
     "output_type": "stream",
     "text": [
      "390.625\n",
      "2560.0\n"
     ]
    }
   ],
   "source": [
    "dis_to_moon = 384000\n",
    "dis_to_sun = 150000000\n",
    "times_bigger = dis_to_sun / dis_to_moon\n",
    "print(times_bigger)\n",
    "\n",
    "\n",
    "\n",
    "distance = 384000\n",
    "speed = 150\n",
    "a_year = distance / speed\n",
    "print(a_year)\n",
    "\n",
    "\n",
    "\n"
   ]
  },
  {
   "cell_type": "markdown",
   "metadata": {},
   "source": [
    "4. Deklaruokite True reikšmę 5 skirtingais būdais\n"
   ]
  },
  {
   "cell_type": "code",
   "execution_count": 39,
   "metadata": {},
   "outputs": [
    {
     "name": "stdout",
     "output_type": "stream",
     "text": [
      "True\n",
      "True\n",
      "True\n",
      "True\n",
      "True\n"
     ]
    }
   ],
   "source": [
    "print (10 < 50)\n",
    "print (10 >= 10)\n",
    "print (10 == 10)\n",
    "print(10 != 50)\n",
    "text = 'ponaspitonas'\n",
    "print ( 'p' in text )"
   ]
  },
  {
   "cell_type": "markdown",
   "metadata": {},
   "source": [
    "5. Deklaruokite False reikšmę 5 skirtingais būdais"
   ]
  },
  {
   "cell_type": "code",
   "execution_count": 45,
   "metadata": {},
   "outputs": [
    {
     "name": "stdout",
     "output_type": "stream",
     "text": [
      "False\n",
      "False\n",
      "False\n",
      "False\n",
      "False\n"
     ]
    }
   ],
   "source": [
    "print (10 > 50)\n",
    "print (50 <= 10)\n",
    "print (10 == 50)\n",
    "print(50 != 50)\n",
    "text = 'ponaspitonas'\n",
    "print ( 'u' in text )"
   ]
  },
  {
   "cell_type": "markdown",
   "metadata": {},
   "source": [
    "6. Deklaruokite False:\n",
    "   1. Naudodami tik `int` tipo duomenį\n",
    "   2. Tik string tipo duomenį\n"
   ]
  },
  {
   "cell_type": "code",
   "execution_count": 47,
   "metadata": {},
   "outputs": [
    {
     "name": "stdout",
     "output_type": "stream",
     "text": [
      "False\n",
      "False\n"
     ]
    }
   ],
   "source": [
    "print (10 > 50)\n",
    "text = 'ponaspitonas'\n",
    "print ( 'u' in text )\n",
    "\n"
   ]
  }
 ],
 "metadata": {
  "kernelspec": {
   "display_name": "Python 3",
   "language": "python",
   "name": "python3"
  },
  "language_info": {
   "codemirror_mode": {
    "name": "ipython",
    "version": 3
   },
   "file_extension": ".py",
   "mimetype": "text/x-python",
   "name": "python",
   "nbconvert_exporter": "python",
   "pygments_lexer": "ipython3",
   "version": "3.10.2"
  }
 },
 "nbformat": 4,
 "nbformat_minor": 2
}
