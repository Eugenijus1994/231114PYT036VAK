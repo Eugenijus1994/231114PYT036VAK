{
 "cells": [
  {
   "cell_type": "markdown",
   "metadata": {},
   "source": [
    "1. Leiskite vartotojui pasirinkti skaičių, atspausdinkite jo sandaugą nuo 1 iki 10 imtinai"
   ]
  },
  {
   "cell_type": "markdown",
   "metadata": {},
   "source": [
    "2. Gaukite visas įmanomas kombinacijas iš šių sąrašų, įrašykite jas į list’ą. Bus reikalingas dvigubas for ciklas (ciklas cikle)  \n",
    "Rezultatas turi gautis panašus į:  \n",
    "kombinacijos = [ [ ‘Pirmadienis’, 10 ], [ ‘Pirmadienis’, 11], [ ‘Pirmadienis’, 12]... ]"
   ]
  },
  {
   "cell_type": "code",
   "execution_count": 8,
   "metadata": {},
   "outputs": [
    {
     "name": "stdout",
     "output_type": "stream",
     "text": [
      "[['Pirmadienis', 10], ['Pirmadienis', 11], ['Pirmadienis', 12], ['Pirmadienis', 13], ['Pirmadienis', 14], ['Pirmadienis', 15], ['Pirmadienis', 16], ['Pirmadienis', 17], ['Pirmadienis', 18], ['Pirmadienis', 19], ['Antradienis', 10], ['Antradienis', 11], ['Antradienis', 12], ['Antradienis', 13], ['Antradienis', 14], ['Antradienis', 15], ['Antradienis', 16], ['Antradienis', 17], ['Antradienis', 18], ['Antradienis', 19], ['Treciadienis', 10], ['Treciadienis', 11], ['Treciadienis', 12], ['Treciadienis', 13], ['Treciadienis', 14], ['Treciadienis', 15], ['Treciadienis', 16], ['Treciadienis', 17], ['Treciadienis', 18], ['Treciadienis', 19], ['Ketvirtadienis', 10], ['Ketvirtadienis', 11], ['Ketvirtadienis', 12], ['Ketvirtadienis', 13], ['Ketvirtadienis', 14], ['Ketvirtadienis', 15], ['Ketvirtadienis', 16], ['Ketvirtadienis', 17], ['Ketvirtadienis', 18], ['Ketvirtadienis', 19], ['Penktadienis', 10], ['Penktadienis', 11], ['Penktadienis', 12], ['Penktadienis', 13], ['Penktadienis', 14], ['Penktadienis', 15], ['Penktadienis', 16], ['Penktadienis', 17], ['Penktadienis', 18], ['Penktadienis', 19], ['Sestadienis', 10], ['Sestadienis', 11], ['Sestadienis', 12], ['Sestadienis', 13], ['Sestadienis', 14], ['Sestadienis', 15], ['Sestadienis', 16], ['Sestadienis', 17], ['Sestadienis', 18], ['Sestadienis', 19], ['Sekmadienis', 10], ['Sekmadienis', 11], ['Sekmadienis', 12], ['Sekmadienis', 13], ['Sekmadienis', 14], ['Sekmadienis', 15], ['Sekmadienis', 16], ['Sekmadienis', 17], ['Sekmadienis', 18], ['Sekmadienis', 19], ['Pirmadienis', 10], ['Pirmadienis', 11], ['Pirmadienis', 12], ['Pirmadienis', 13], ['Pirmadienis', 14], ['Pirmadienis', 15], ['Pirmadienis', 16], ['Pirmadienis', 17], ['Pirmadienis', 18], ['Pirmadienis', 19], ['Antradienis', 10], ['Antradienis', 11], ['Antradienis', 12], ['Antradienis', 13], ['Antradienis', 14], ['Antradienis', 15], ['Antradienis', 16], ['Antradienis', 17], ['Antradienis', 18], ['Antradienis', 19], ['Treciadienis', 10], ['Treciadienis', 11], ['Treciadienis', 12], ['Treciadienis', 13], ['Treciadienis', 14], ['Treciadienis', 15], ['Treciadienis', 16], ['Treciadienis', 17], ['Treciadienis', 18], ['Treciadienis', 19], ['Ketvirtadienis', 10], ['Ketvirtadienis', 11], ['Ketvirtadienis', 12], ['Ketvirtadienis', 13], ['Ketvirtadienis', 14], ['Ketvirtadienis', 15], ['Ketvirtadienis', 16], ['Ketvirtadienis', 17], ['Ketvirtadienis', 18], ['Ketvirtadienis', 19], ['Penktadienis', 10], ['Penktadienis', 11], ['Penktadienis', 12], ['Penktadienis', 13], ['Penktadienis', 14], ['Penktadienis', 15], ['Penktadienis', 16], ['Penktadienis', 17], ['Penktadienis', 18], ['Penktadienis', 19], ['Sestadienis', 10], ['Sestadienis', 11], ['Sestadienis', 12], ['Sestadienis', 13], ['Sestadienis', 14], ['Sestadienis', 15], ['Sestadienis', 16], ['Sestadienis', 17], ['Sestadienis', 18], ['Sestadienis', 19], ['Sekmadienis', 10], ['Sekmadienis', 11], ['Sekmadienis', 12], ['Sekmadienis', 13], ['Sekmadienis', 14], ['Sekmadienis', 15], ['Sekmadienis', 16], ['Sekmadienis', 17], ['Sekmadienis', 18], ['Sekmadienis', 19], ['Pirmadienis', 10], ['Pirmadienis', 11], ['Pirmadienis', 12], ['Pirmadienis', 13], ['Pirmadienis', 14], ['Pirmadienis', 15], ['Pirmadienis', 16], ['Pirmadienis', 17], ['Pirmadienis', 18], ['Pirmadienis', 19], ['Antradienis', 10], ['Antradienis', 11], ['Antradienis', 12], ['Antradienis', 13], ['Antradienis', 14], ['Antradienis', 15], ['Antradienis', 16], ['Antradienis', 17], ['Antradienis', 18], ['Antradienis', 19], ['Treciadienis', 10], ['Treciadienis', 11], ['Treciadienis', 12], ['Treciadienis', 13], ['Treciadienis', 14], ['Treciadienis', 15], ['Treciadienis', 16], ['Treciadienis', 17], ['Treciadienis', 18], ['Treciadienis', 19], ['Ketvirtadienis', 10], ['Ketvirtadienis', 11], ['Ketvirtadienis', 12], ['Ketvirtadienis', 13], ['Ketvirtadienis', 14], ['Ketvirtadienis', 15], ['Ketvirtadienis', 16], ['Ketvirtadienis', 17], ['Ketvirtadienis', 18], ['Ketvirtadienis', 19], ['Penktadienis', 10], ['Penktadienis', 11], ['Penktadienis', 12], ['Penktadienis', 13], ['Penktadienis', 14], ['Penktadienis', 15], ['Penktadienis', 16], ['Penktadienis', 17], ['Penktadienis', 18], ['Penktadienis', 19], ['Sestadienis', 10], ['Sestadienis', 11], ['Sestadienis', 12], ['Sestadienis', 13], ['Sestadienis', 14], ['Sestadienis', 15], ['Sestadienis', 16], ['Sestadienis', 17], ['Sestadienis', 18], ['Sestadienis', 19], ['Sekmadienis', 10], ['Sekmadienis', 11], ['Sekmadienis', 12], ['Sekmadienis', 13], ['Sekmadienis', 14], ['Sekmadienis', 15], ['Sekmadienis', 16], ['Sekmadienis', 17], ['Sekmadienis', 18], ['Sekmadienis', 19], ['Pirmadienis', 10], ['Pirmadienis', 11], ['Pirmadienis', 12], ['Pirmadienis', 13], ['Pirmadienis', 14], ['Pirmadienis', 15], ['Pirmadienis', 16], ['Pirmadienis', 17], ['Pirmadienis', 18], ['Pirmadienis', 19], ['Antradienis', 10], ['Antradienis', 11], ['Antradienis', 12], ['Antradienis', 13], ['Antradienis', 14], ['Antradienis', 15], ['Antradienis', 16], ['Antradienis', 17], ['Antradienis', 18], ['Antradienis', 19], ['Treciadienis', 10], ['Treciadienis', 11], ['Treciadienis', 12], ['Treciadienis', 13], ['Treciadienis', 14], ['Treciadienis', 15], ['Treciadienis', 16], ['Treciadienis', 17], ['Treciadienis', 18], ['Treciadienis', 19], ['Ketvirtadienis', 10], ['Ketvirtadienis', 11], ['Ketvirtadienis', 12], ['Ketvirtadienis', 13], ['Ketvirtadienis', 14], ['Ketvirtadienis', 15], ['Ketvirtadienis', 16], ['Ketvirtadienis', 17], ['Ketvirtadienis', 18], ['Ketvirtadienis', 19], ['Penktadienis', 10], ['Penktadienis', 11], ['Penktadienis', 12], ['Penktadienis', 13], ['Penktadienis', 14], ['Penktadienis', 15], ['Penktadienis', 16], ['Penktadienis', 17], ['Penktadienis', 18], ['Penktadienis', 19], ['Sestadienis', 10], ['Sestadienis', 11], ['Sestadienis', 12], ['Sestadienis', 13], ['Sestadienis', 14], ['Sestadienis', 15], ['Sestadienis', 16], ['Sestadienis', 17], ['Sestadienis', 18], ['Sestadienis', 19], ['Sekmadienis', 10], ['Sekmadienis', 11], ['Sekmadienis', 12], ['Sekmadienis', 13], ['Sekmadienis', 14], ['Sekmadienis', 15], ['Sekmadienis', 16], ['Sekmadienis', 17], ['Sekmadienis', 18], ['Sekmadienis', 19]]\n"
     ]
    }
   ],
   "source": [
    "dienos = ['Pirmadienis', 'Antradienis', 'Treciadienis','Ketvirtadienis', 'Penktadienis', 'Sestadienis' , 'Sekmadienis']\n",
    "valandos = [10, 11, 12, 13, 14, 15, 16, 17, 18, 19]\n",
    "\n",
    "\n",
    "for diena in dienos:\n",
    "    for valanda in valandos:\n",
    "        kombinacija = [diena, valanda]\n",
    "        kombinacijos.append(kombinacija)\n",
    "\n",
    "print(kombinacijos)"
   ]
  },
  {
   "cell_type": "markdown",
   "metadata": {},
   "source": [
    "3. Tikrinant skaičius nuo 1 iki 20, atspausdinkite skaičius, kurie dalinasi iš 3 be liekanos. Naudokite for loop ir if"
   ]
  },
  {
   "cell_type": "code",
   "execution_count": 16,
   "metadata": {},
   "outputs": [
    {
     "name": "stdout",
     "output_type": "stream",
     "text": [
      "[3, 6, 9, 12, 15, 18]\n"
     ]
    }
   ],
   "source": [
    "numbers = list(range(1,21) )\n",
    "\n",
    "divisble_by_3 = []\n",
    "for number in numbers:\n",
    "    if number % 3 == 0:\n",
    "        divisble_by_3.append(number)\n",
    "\n",
    "\n",
    "divisble_by_3 = [ number for number in numbers if number % 3 == 0 ]\n",
    "print(divisble_by_3)"
   ]
  },
  {
   "cell_type": "code",
   "execution_count": 9,
   "metadata": {},
   "outputs": [
    {
     "name": "stdout",
     "output_type": "stream",
     "text": [
      "3\n",
      "6\n",
      "9\n",
      "12\n",
      "15\n",
      "18\n"
     ]
    }
   ],
   "source": [
    "for number in range(1, 21):\n",
    "    if number % 3 == 0:\n",
    "        print(number)"
   ]
  },
  {
   "cell_type": "markdown",
   "metadata": {},
   "source": [
    "4. Tikrinant skaičius nuo 1 iki 50, pridėkite skaičių prie sumos, jei nauja būsima suma bus lyginė. Naudokite for loop ir if"
   ]
  },
  {
   "cell_type": "code",
   "execution_count": 19,
   "metadata": {},
   "outputs": [
    {
     "name": "stdout",
     "output_type": "stream",
     "text": [
      "Suma 6 (Lyginė)\n",
      "Suma 10 (Lyginė)\n",
      "Suma 28 (Lyginė)\n",
      "Suma 36 (Lyginė)\n",
      "Suma 66 (Lyginė)\n",
      "Suma 78 (Lyginė)\n",
      "Suma 120 (Lyginė)\n",
      "Suma 136 (Lyginė)\n",
      "Suma 190 (Lyginė)\n",
      "Suma 210 (Lyginė)\n",
      "Suma 276 (Lyginė)\n",
      "Suma 300 (Lyginė)\n",
      "Suma 378 (Lyginė)\n",
      "Suma 406 (Lyginė)\n",
      "Suma 496 (Lyginė)\n",
      "Suma 528 (Lyginė)\n",
      "Suma 630 (Lyginė)\n",
      "Suma 666 (Lyginė)\n",
      "Suma 780 (Lyginė)\n",
      "Suma 820 (Lyginė)\n",
      "Suma 946 (Lyginė)\n",
      "Suma 990 (Lyginė)\n",
      "Suma 1128 (Lyginė)\n",
      "Suma 1176 (Lyginė)\n"
     ]
    }
   ],
   "source": [
    "sum = 0\n",
    "\n",
    "for number in range(1, 51):\n",
    "    sum += number\n",
    "    if sum % 2 == 0:\n",
    "        print(f'Suma {sum} (Lyginė)')"
   ]
  },
  {
   "cell_type": "markdown",
   "metadata": {},
   "source": [
    "5. Leiskite vartotojui pasirinkti skaičių, atspausdinkite jo sandaugą nuo 1 iki 10 tik tada, jei pasirinktas skaičius pakeltas kvadratu yra nelyginis."
   ]
  },
  {
   "cell_type": "code",
   "execution_count": null,
   "metadata": {},
   "outputs": [],
   "source": []
  },
  {
   "cell_type": "markdown",
   "metadata": {},
   "source": [
    "6. Gaukite visas įmanomas kombinacijas iš šių sąrašų tik tada, jei diena yra arba pirmadienis arba trečiadienis, o valandos yra nuo 12 iki 17, įrašykite jas į list’ą"
   ]
  },
  {
   "cell_type": "code",
   "execution_count": 31,
   "metadata": {},
   "outputs": [
    {
     "name": "stdout",
     "output_type": "stream",
     "text": [
      "[['Pirmadienis', 12], ['Pirmadienis', 13], ['Pirmadienis', 14], ['Pirmadienis', 15], ['Pirmadienis', 16], ['Pirmadienis', 17], ['Treciadienis', 12], ['Treciadienis', 13], ['Treciadienis', 14], ['Treciadienis', 15], ['Treciadienis', 16], ['Treciadienis', 17]]\n"
     ]
    }
   ],
   "source": [
    "dienos = ('Pirmadienis', 'Antradienis', 'Treciadienis','Ketvirtadienis', 'Penktadienis', 'Sestadienis' , 'Sekmadienis')\n",
    "valandos = [10, 11, 12, 13, 14, 15, 16, 17, 18, 19]\n",
    "\n",
    "kombinacijos = []\n",
    "\n",
    "for diena in dienos:\n",
    "    for valanda in valandos:\n",
    "        if (diena == 'Pirmadienis' or diena == 'Treciadienis') and (12 <= valanda <= 17):\n",
    "            kombinacija = [diena, valanda]\n",
    "            kombinacijos.append(kombinacija)\n",
    "\n",
    "print(kombinacijos)\n"
   ]
  }
 ],
 "metadata": {
  "kernelspec": {
   "display_name": "Python 3",
   "language": "python",
   "name": "python3"
  },
  "language_info": {
   "codemirror_mode": {
    "name": "ipython",
    "version": 3
   },
   "file_extension": ".py",
   "mimetype": "text/x-python",
   "name": "python",
   "nbconvert_exporter": "python",
   "pygments_lexer": "ipython3",
   "version": "3.10.2"
  }
 },
 "nbformat": 4,
 "nbformat_minor": 2
}
