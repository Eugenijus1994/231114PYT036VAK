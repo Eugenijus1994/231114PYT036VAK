{
 "cells": [
  {
   "cell_type": "markdown",
   "metadata": {},
   "source": [
    "Nesu tikras dėl linksnių, ar tai svarbu, pvz prie spalvos galbūt reikėtų nurodyti du žodzius \"juoda\" ir \"juodą\" ir tuomet kode suslicinti, kad būtų panaudotas antrasis žodis, kuris yra tinkamas šiam sakiniui, bet tokio kodo kolkas parašyti nepavyko:))"
   ]
  },
  {
   "cell_type": "code",
   "execution_count": 29,
   "metadata": {},
   "outputs": [
    {
     "name": "stdout",
     "output_type": "stream",
     "text": [
      "Gyvunas - šuo, turi juodą spalvos kailį ir sveria 8kg\n"
     ]
    }
   ],
   "source": [
    "gyvūno_pavadinimas = \"šuo\"\n",
    "amžius = \"5 metai\"\n",
    "spalva = \"juodą\"\n",
    "svoris = \"8kg\"\n",
    "\n",
    "print( f'Gyvunas - {gyvūno_pavadinimas}, turi {spalva} spalvos kailį ir sveria {svoris}')  \n"
   ]
  }
 ],
 "metadata": {
  "kernelspec": {
   "display_name": "Python 3",
   "language": "python",
   "name": "python3"
  },
  "language_info": {
   "codemirror_mode": {
    "name": "ipython",
    "version": 3
   },
   "file_extension": ".py",
   "mimetype": "text/x-python",
   "name": "python",
   "nbconvert_exporter": "python",
   "pygments_lexer": "ipython3",
   "version": "3.10.2"
  }
 },
 "nbformat": 4,
 "nbformat_minor": 2
}
