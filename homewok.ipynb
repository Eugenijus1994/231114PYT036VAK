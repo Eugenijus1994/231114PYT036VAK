{
 "cells": [
  {
   "cell_type": "markdown",
   "metadata": {},
   "source": [
    "Nesu tikras dėl linksnių, ar tai svarbu, pvz prie spalvos galbūt reikėtų nurodyti du žodzius \"juoda\" ir \"juodą\" ir tuomet kode suslicinti, kad būtų panaudotas antrasis žodis, kuris yra tinkamas šiam sakiniui, bet tokio kodo kolkas parašyti nepavyko:))"
   ]
  },
  {
   "cell_type": "code",
   "execution_count": 31,
   "metadata": {},
   "outputs": [
    {
     "name": "stdout",
     "output_type": "stream",
     "text": [
      "Gyvunas - šuo, (5 metai) turi juodą spalvos kailį ir sveria 8kg\n"
     ]
    }
   ],
   "source": [
    "gyvūno_pavadinimas = \"šuo\"\n",
    "amžius = \"5 metai\"\n",
    "spalva = \"juodą\"\n",
    "svoris = \"8kg\"\n",
    "\n",
    "print( f'Gyvunas - {gyvūno_pavadinimas}, ({amžius}) turi {spalva} spalvos kailį ir sveria {svoris}')  \n"
   ]
  },
  {
   "cell_type": "code",
   "execution_count": 54,
   "metadata": {},
   "outputs": [
    {
     "name": "stdout",
     "output_type": "stream",
     "text": [
      "stressed\n",
      "stressed[::-1] - desserts\n"
     ]
    }
   ],
   "source": [
    "print('stressed')\n",
    "print( 'stressed[::-1] -', 'stressed'[::-1] )"
   ]
  },
  {
   "cell_type": "code",
   "execution_count": 42,
   "metadata": {},
   "outputs": [
    {
     "name": "stdout",
     "output_type": "stream",
     "text": [
      "it is in the haystack!\n"
     ]
    }
   ],
   "source": [
    "needle =\"racecar\"\n",
    "haystack = \"The racecar is fast, but can it outrun a palindrome?\"\n",
    "\n",
    "if needle in haystack:\n",
    "    print(\"it is in the haystack!\")\n",
    "else:\n",
    "    print(\"there is no needle, sadly.\")"
   ]
  },
  {
   "cell_type": "code",
   "execution_count": 45,
   "metadata": {},
   "outputs": [
    {
     "name": "stdout",
     "output_type": "stream",
     "text": [
      "Labas, Pasauli!\n",
      "LABAS, PASAULI!\n"
     ]
    }
   ],
   "source": [
    "print('Labas, Pasauli!')\n",
    "print('Labas, Pasauli!'.upper())"
   ]
  },
  {
   "cell_type": "code",
   "execution_count": 53,
   "metadata": {},
   "outputs": [
    {
     "name": "stdout",
     "output_type": "stream",
     "text": [
      "Man patinka kava ir šokoladas.\n"
     ]
    }
   ],
   "source": [
    "input_string = \"Man patinka kava ir arbata.\"\n",
    "old_fragment = \"arbata\"\n",
    "new_fragment = \"šokoladas\"\n",
    "print( input_string.replace('arbata', 'šokoladas') )"
   ]
  },
  {
   "cell_type": "code",
   "execution_count": 64,
   "metadata": {},
   "outputs": [
    {
     "name": "stdout",
     "output_type": "stream",
     "text": [
      "3\n"
     ]
    }
   ],
   "source": [
    "input_string = \"Obuolys ir bananas\" \n",
    "specific_character = \"a\"\n",
    "print( len(' a ' ) )\n",
    "\n"
   ]
  }
 ],
 "metadata": {
  "kernelspec": {
   "display_name": "Python 3",
   "language": "python",
   "name": "python3"
  },
  "language_info": {
   "codemirror_mode": {
    "name": "ipython",
    "version": 3
   },
   "file_extension": ".py",
   "mimetype": "text/x-python",
   "name": "python",
   "nbconvert_exporter": "python",
   "pygments_lexer": "ipython3",
   "version": "3.10.2"
  }
 },
 "nbformat": 4,
 "nbformat_minor": 2
}
