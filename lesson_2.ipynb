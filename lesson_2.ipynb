{
 "cells": [
  {
   "cell_type": "code",
   "execution_count": 2,
   "metadata": {},
   "outputs": [],
   "source": [
    "# cele\n"
   ]
  },
  {
   "cell_type": "code",
   "execution_count": 5,
   "metadata": {},
   "outputs": [
    {
     "name": "stdout",
     "output_type": "stream",
     "text": [
      "Hello world!\n"
     ]
    }
   ],
   "source": [
    "print(\"Hello world!\")#\n",
    "    "
   ]
  },
  {
   "cell_type": "code",
   "execution_count": 3,
   "metadata": {},
   "outputs": [
    {
     "name": "stdout",
     "output_type": "stream",
     "text": [
      "The Zen of Python, by Tim Peters\n",
      "\n",
      "Beautiful is better than ugly.\n",
      "Explicit is better than implicit.\n",
      "Simple is better than complex.\n",
      "Complex is better than complicated.\n",
      "Flat is better than nested.\n",
      "Sparse is better than dense.\n",
      "Readability counts.\n",
      "Special cases aren't special enough to break the rules.\n",
      "Although practicality beats purity.\n",
      "Errors should never pass silently.\n",
      "Unless explicitly silenced.\n",
      "In the face of ambiguity, refuse the temptation to guess.\n",
      "There should be one-- and preferably only one --obvious way to do it.\n",
      "Although that way may not be obvious at first unless you're Dutch.\n",
      "Now is better than never.\n",
      "Although never is often better than *right* now.\n",
      "If the implementation is hard to explain, it's a bad idea.\n",
      "If the implementation is easy to explain, it may be a good idea.\n",
      "Namespaces are one honking great idea -- let's do more of those!\n"
     ]
    }
   ],
   "source": [
    "import this"
   ]
  },
  {
   "cell_type": "markdown",
   "metadata": {},
   "source": [
    "STRING"
   ]
  },
  {
   "cell_type": "code",
   "execution_count": 6,
   "metadata": {},
   "outputs": [],
   "source": [
    "vardas=\"Augis\""
   ]
  },
  {
   "cell_type": "code",
   "execution_count": 7,
   "metadata": {},
   "outputs": [
    {
     "name": "stdout",
     "output_type": "stream",
     "text": [
      "12\n"
     ]
    }
   ],
   "source": [
    "x = 2\n",
    "y = 2\n",
    "c = 3\n",
    "print((x + y)*c)\n"
   ]
  },
  {
   "cell_type": "markdown",
   "metadata": {},
   "source": [
    "INDEXING"
   ]
  },
  {
   "cell_type": "code",
   "execution_count": 13,
   "metadata": {},
   "outputs": [
    {
     "name": "stdout",
     "output_type": "stream",
     "text": [
      "Augis\n",
      "vardas[0] -  A\n",
      "vardas[0] -  u\n",
      "vardas[0] -  s\n",
      "vardas[0] -  s\n",
      "vardas[0] -  i\n"
     ]
    }
   ],
   "source": [
    "print (vardas)\n",
    "print ('vardas[0] - ', vardas[0])\n",
    "print ('vardas[0] - ', vardas[1])\n",
    "print ('vardas[0] - ', vardas[4])\n",
    "print ('vardas[0] - ', vardas[-1])\n",
    "print ('vardas[0] - ', vardas[-2])\n"
   ]
  },
  {
   "cell_type": "markdown",
   "metadata": {},
   "source": [
    "SLICING"
   ]
  },
  {
   "cell_type": "code",
   "execution_count": 24,
   "metadata": {},
   "outputs": [
    {
     "name": "stdout",
     "output_type": "stream",
     "text": [
      "Augis\n",
      "vardas[0:4] - Augi\n",
      "vardas[0:4] - s\n",
      "vardas[0:4] - Augi\n",
      "vardas[0:4] - Augi\n",
      "vardas[2:5] - gis\n"
     ]
    }
   ],
   "source": [
    "print(vardas)\n",
    "print('vardas[0:4] -', vardas[0:4]) #cia yra komentaras\n",
    "print('vardas[0:4] -', vardas[4])\n",
    "print('vardas[0:4] -', vardas[:4])\n",
    "print('vardas[0:4] -', vardas[0:4])\n",
    "print('vardas[2:5] -', vardas[2:5])\n",
    "#[start:stop]\n",
    "\n",
    "\n",
    "      "
   ]
  },
  {
   "cell_type": "markdown",
   "metadata": {},
   "source": [
    "SLICING WITH STEPS\n"
   ]
  },
  {
   "cell_type": "code",
   "execution_count": 28,
   "metadata": {},
   "outputs": [
    {
     "name": "stdout",
     "output_type": "stream",
     "text": [
      "surname[4:] - r\n",
      "surname[4::1] - rdenis\n",
      "surname[4::2] - rei\n"
     ]
    }
   ],
   "source": [
    "surname = \"Pavardenis\"\n",
    "# [start:stop:step]\n",
    "print('surname[4:] -', surname[4])\n",
    "print('surname[4::1] -', surname[4::1])\n",
    "print('surname[4::2] -', surname[4::2])"
   ]
  },
  {
   "cell_type": "markdown",
   "metadata": {},
   "source": [
    "'vs \" \" vs \"\"\" \"\"\""
   ]
  },
  {
   "cell_type": "code",
   "execution_count": 48,
   "metadata": {},
   "outputs": [
    {
     "name": "stdout",
     "output_type": "stream",
     "text": [
      "I can't go out today\n",
      "I can't go out today\n"
     ]
    },
    {
     "ename": "NameError",
     "evalue": "name 'multi_line_text' is not defined",
     "output_type": "error",
     "traceback": [
      "\u001b[0;31m---------------------------------------------------------------------------\u001b[0m",
      "\u001b[0;31mNameError\u001b[0m                                 Traceback (most recent call last)",
      "\u001b[1;32m/Users/eugenijuskurmis/Desktop/231114PYT036VAK/lesson_2.ipynb Cell 14\u001b[0m line \u001b[0;36m7\n\u001b[1;32m      <a href='vscode-notebook-cell:/Users/eugenijuskurmis/Desktop/231114PYT036VAK/lesson_2.ipynb#X20sZmlsZQ%3D%3D?line=3'>4</a>\u001b[0m \u001b[39mprint\u001b[39m(text_2)\n\u001b[1;32m      <a href='vscode-notebook-cell:/Users/eugenijuskurmis/Desktop/231114PYT036VAK/lesson_2.ipynb#X20sZmlsZQ%3D%3D?line=4'>5</a>\u001b[0m text_3 \u001b[39m=\u001b[39m \u001b[39m'''\u001b[39m\u001b[39mI can\u001b[39m\u001b[39m'\u001b[39m\u001b[39mt go out today\u001b[39m\n\u001b[1;32m      <a href='vscode-notebook-cell:/Users/eugenijuskurmis/Desktop/231114PYT036VAK/lesson_2.ipynb#X20sZmlsZQ%3D%3D?line=5'>6</a>\u001b[0m \u001b[39mbecause I am sick\u001b[39m\u001b[39m'''\u001b[39m\n\u001b[0;32m----> <a href='vscode-notebook-cell:/Users/eugenijuskurmis/Desktop/231114PYT036VAK/lesson_2.ipynb#X20sZmlsZQ%3D%3D?line=6'>7</a>\u001b[0m \u001b[39mprint\u001b[39m(multi_line_text)\n",
      "\u001b[0;31mNameError\u001b[0m: name 'multi_line_text' is not defined"
     ]
    }
   ],
   "source": [
    "text = \"I can't go out today\"\n",
    "print(text)\n",
    "text_2 = 'I can\\'t go out today'\n",
    "print(text_2)\n",
    "text_3 = '''I can't go out today\n",
    "because I am sick'''\n",
    "print(multi_line_text)"
   ]
  },
  {
   "cell_type": "markdown",
   "metadata": {},
   "source": [
    "NEW LINE"
   ]
  },
  {
   "cell_type": "code",
   "execution_count": 37,
   "metadata": {},
   "outputs": [
    {
     "name": "stdout",
     "output_type": "stream",
     "text": [
      "Pavardenis\n",
      "10\n"
     ]
    }
   ],
   "source": [
    "print ( surname) \n",
    "print ( len(surname)) #duoda simboliu kieki, ne raidziu, skaiciuoja ir tarpelius"
   ]
  },
  {
   "cell_type": "code",
   "execution_count": 41,
   "metadata": {},
   "outputs": [
    {
     "name": "stdout",
     "output_type": "stream",
     "text": [
      "PAVARDENIS\n",
      "pavardenis\n",
      "PAVARDENIS\n",
      "PAVARDENIS\n"
     ]
    }
   ],
   "source": [
    "print(surname)\n",
    "print(surname.lower())\n",
    "print(surname.upper())\n",
    "surname = surname.upper() #norint perrasyt kintamaji\n",
    "print(surname)"
   ]
  },
  {
   "cell_type": "code",
   "execution_count": 47,
   "metadata": {},
   "outputs": [
    {
     "name": "stdout",
     "output_type": "stream",
     "text": [
      "today is a beautiful Day\n",
      "today is a beautiful Morning\n",
      "11\n",
      "b\n",
      "beautiful Day\n",
      "today is a beautiful Day\n"
     ]
    },
    {
     "ename": "TypeError",
     "evalue": "'NoneType' object is not subscriptable",
     "output_type": "error",
     "traceback": [
      "\u001b[0;31m---------------------------------------------------------------------------\u001b[0m",
      "\u001b[0;31mTypeError\u001b[0m                                 Traceback (most recent call last)",
      "\u001b[1;32m/Users/eugenijuskurmis/Desktop/231114PYT036VAK/lesson_2.ipynb Cell 18\u001b[0m line \u001b[0;36m9\n\u001b[1;32m      <a href='vscode-notebook-cell:/Users/eugenijuskurmis/Desktop/231114PYT036VAK/lesson_2.ipynb#X24sZmlsZQ%3D%3D?line=5'>6</a>\u001b[0m \u001b[39mprint\u001b[39m(text[text\u001b[39m.\u001b[39mfind(\u001b[39m'\u001b[39m\u001b[39mbeautiful\u001b[39m\u001b[39m'\u001b[39m):\u001b[39m24\u001b[39m ])\n\u001b[1;32m      <a href='vscode-notebook-cell:/Users/eugenijuskurmis/Desktop/231114PYT036VAK/lesson_2.ipynb#X24sZmlsZQ%3D%3D?line=7'>8</a>\u001b[0m word_to_find \u001b[39m=\u001b[39m \u001b[39m'\u001b[39m\u001b[39mbeautiful\u001b[39m\u001b[39m'\u001b[39m\n\u001b[0;32m----> <a href='vscode-notebook-cell:/Users/eugenijuskurmis/Desktop/231114PYT036VAK/lesson_2.ipynb#X24sZmlsZQ%3D%3D?line=8'>9</a>\u001b[0m \u001b[39mprint\u001b[39;49m(text)[text\u001b[39m.\u001b[39;49mfind(word_to_find) : text\u001b[39m.\u001b[39;49mfind(word_to_find) \u001b[39m+\u001b[39;49m \u001b[39mlen\u001b[39;49m(word_to_find)]\n",
      "\u001b[0;31mTypeError\u001b[0m: 'NoneType' object is not subscriptable"
     ]
    }
   ],
   "source": [
    "text = 'today is a beautiful Day'\n",
    "print(text)\n",
    "print(text.replace('Day' , 'Morning')) #sena teksta day, pakeicia i morning, reik atkreipt demesi i didziasias ir mazasias raides\n",
    "print (text.find('beautiful'))\n",
    "print(text[11])\n",
    "print(text[text.find('beautiful'):24 ])\n",
    "\n",
    "word_to_find = 'beautiful'\n",
    "print(text)[text.find(word_to_find) : text.find(word_to_find) + len(word_to_find)]"
   ]
  },
  {
   "cell_type": "markdown",
   "metadata": {},
   "source": [
    "TEXTT FORMATTING"
   ]
  },
  {
   "cell_type": "code",
   "execution_count": null,
   "metadata": {},
   "outputs": [],
   "source": []
  }
 ],
 "metadata": {
  "kernelspec": {
   "display_name": "Python 3",
   "language": "python",
   "name": "python3"
  },
  "language_info": {
   "codemirror_mode": {
    "name": "ipython",
    "version": 3
   },
   "file_extension": ".py",
   "mimetype": "text/x-python",
   "name": "python",
   "nbconvert_exporter": "python",
   "pygments_lexer": "ipython3",
   "version": "3.10.2"
  }
 },
 "nbformat": 4,
 "nbformat_minor": 2
}
